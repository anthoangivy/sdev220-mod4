{
 "cells": [
  {
   "cell_type": "code",
   "execution_count": 1,
   "metadata": {},
   "outputs": [
    {
     "name": "stdout",
     "output_type": "stream",
     "text": [
      "Open 9-5 daily\n"
     ]
    }
   ],
   "source": [
    "import zoo\n",
    "\n",
    "zoo.hours()"
   ]
  },
  {
   "cell_type": "code",
   "execution_count": 2,
   "metadata": {},
   "outputs": [
    {
     "name": "stdout",
     "output_type": "stream",
     "text": [
      "Open 9-5 daily\n"
     ]
    }
   ],
   "source": [
    "import zoo as menagerie\n",
    "\n",
    "menagerie.hours()"
   ]
  },
  {
   "cell_type": "code",
   "execution_count": 3,
   "metadata": {},
   "outputs": [
    {
     "name": "stdout",
     "output_type": "stream",
     "text": [
      "Perdido Street Station\n",
      "Small Gods\n",
      "The Spellman Files\n",
      "The Weirdstone of Brisingamen\n",
      "Thud!\n"
     ]
    }
   ],
   "source": [
    "import csv\n",
    "import sqlite3\n",
    "import sqlalchemy as sa\n",
    "\n",
    "books = [\n",
    "    [\"title\", \"author\", \"year\"],\n",
    "    [\"The Weirdstone of Brisingamen\", \"Alan Garner\", 1960],\n",
    "    [\"Perdido Street Station\", \"China Miéville\", 2000],\n",
    "    [\"Thud!\", \"Terry Pratchett\", 2005],\n",
    "    [\"The Spellman Files\", \"Lisa Lutz\", 2007],\n",
    "    [\"Small Gods\", \"Terry Pratchett\", 1992]\n",
    "]\n",
    "\n",
    "with open(\"books2.csv\", \"w\", newline=\"\") as file:\n",
    "    csvout = csv.writer(file)\n",
    "    csvout.writerows(books)\n",
    "\n",
    "conn = sqlite3.connect(\"books.db\")\n",
    "curs = conn.cursor()\n",
    "curs.execute(\"\"\"CREATE TABLE IF NOT EXISTS books\n",
    "             (title TEXT,\n",
    "             author TEXT,\n",
    "             year INTEGER)\"\"\")\n",
    "\n",
    "curs.execute(\"DELETE FROM books\")\n",
    "\n",
    "curs.executemany(\"\"\"\n",
    "    INSERT INTO books (title, author, year) \n",
    "    VALUES (?, ?, ?)\"\"\", books[1:])\n",
    "\n",
    "curs.close()\n",
    "conn.close()\n",
    "\n",
    "engine = sa.create_engine(\"sqlite:///books.db\")\n",
    "meta = sa.MetaData()\n",
    "btable = sa.Table(\"books\", meta, autoload_with=engine)\n",
    "\n",
    "with engine.connect() as connection:\n",
    "    result = connection.execute(btable.select().order_by(btable.c.title))\n",
    "    for row in result:\n",
    "        print(row[0])"
   ]
  }
 ],
 "metadata": {
  "kernelspec": {
   "display_name": "Python 3",
   "language": "python",
   "name": "python3"
  },
  "language_info": {
   "codemirror_mode": {
    "name": "ipython",
    "version": 3
   },
   "file_extension": ".py",
   "mimetype": "text/x-python",
   "name": "python",
   "nbconvert_exporter": "python",
   "pygments_lexer": "ipython3",
   "version": "3.11.4"
  }
 },
 "nbformat": 4,
 "nbformat_minor": 2
}
